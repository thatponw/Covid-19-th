{
  "cells": [
    {
      "cell_type": "code",
      "execution_count": null,
      "metadata": {
        "id": "-X7pyQLakd9F"
      },
      "outputs": [],
      "source": [
        "import requests\n",
        "import pandas as pd"
      ]
    },
    {
      "cell_type": "code",
      "execution_count": null,
      "metadata": {
        "colab": {
          "base_uri": "https://localhost:8080/"
        },
        "id": "gK7J2sbLkd9G",
        "outputId": "55746ca9-de83-4105-d994-e74ed63aed86"
      },
      "outputs": [
        {
          "output_type": "stream",
          "name": "stdout",
          "text": [
            "[{'year': 2024, 'weeknum': 7, 'province': 'หนองบัวลำภู', 'new_case': 2, 'total_case': 15, 'new_case_excludeabroad': 2, 'total_case_excludeabroad': 15, 'new_death': 0, 'total_death': 0, 'update_date': '2024-02-25 15:10:53'}, {'year': 2024, 'weeknum': 7, 'province': 'ราชบุรี', 'new_case': 11, 'total_case': 34, 'new_case_excludeabroad': 11, 'total_case_excludeabroad': 34, 'new_death': 0, 'total_death': 1, 'update_date': '2024-02-25 15:10:53'}, {'year': 2024, 'weeknum': 7, 'province': 'พังงา', 'new_case': 0, 'total_case': 1, 'new_case_excludeabroad': 0, 'total_case_excludeabroad': 1, 'new_death': 0, 'total_death': 0, 'update_date': '2024-02-25 15:10:53'}, {'year': 2024, 'weeknum': 7, 'province': 'สุรินทร์', 'new_case': 11, 'total_case': 117, 'new_case_excludeabroad': 11, 'total_case_excludeabroad': 117, 'new_death': 0, 'total_death': 3, 'update_date': '2024-02-25 15:10:53'}, {'year': 2024, 'weeknum': 7, 'province': 'นครนายก', 'new_case': 0, 'total_case': 5, 'new_case_excludeabroad': 0, 'total_case_excludeabroad': 5, 'new_death': 1, 'total_death': 1, 'update_date': '2024-02-25 15:10:53'}, {'year': 2024, 'weeknum': 7, 'province': 'แม่ฮ่องสอน', 'new_case': 0, 'total_case': 11, 'new_case_excludeabroad': 0, 'total_case_excludeabroad': 11, 'new_death': 0, 'total_death': 0, 'update_date': '2024-02-25 15:10:53'}, {'year': 2024, 'weeknum': 7, 'province': 'มหาสารคาม', 'new_case': 1, 'total_case': 10, 'new_case_excludeabroad': 1, 'total_case_excludeabroad': 10, 'new_death': 0, 'total_death': 0, 'update_date': '2024-02-25 15:10:53'}, {'year': 2024, 'weeknum': 7, 'province': 'บึงกาฬ', 'new_case': 0, 'total_case': 8, 'new_case_excludeabroad': 0, 'total_case_excludeabroad': 8, 'new_death': 0, 'total_death': 0, 'update_date': '2024-02-25 15:10:53'}, {'year': 2024, 'weeknum': 7, 'province': 'ปทุมธานี', 'new_case': 4, 'total_case': 91, 'new_case_excludeabroad': 4, 'total_case_excludeabroad': 91, 'new_death': 0, 'total_death': 1, 'update_date': '2024-02-25 15:10:53'}, {'year': 2024, 'weeknum': 7, 'province': 'ทั้งประเทศ', 'new_case': 487, 'total_case': 4199, 'new_case_excludeabroad': 487, 'total_case_excludeabroad': 4199, 'new_death': 3, 'total_death': 46, 'update_date': '2024-02-25 15:10:53'}, {'year': 2024, 'weeknum': 7, 'province': 'พัทลุง', 'new_case': 5, 'total_case': 43, 'new_case_excludeabroad': 5, 'total_case_excludeabroad': 43, 'new_death': 0, 'total_death': 0, 'update_date': '2024-02-25 15:10:53'}, {'year': 2024, 'weeknum': 7, 'province': 'อุตรดิตถ์', 'new_case': 6, 'total_case': 30, 'new_case_excludeabroad': 6, 'total_case_excludeabroad': 30, 'new_death': 0, 'total_death': 2, 'update_date': '2024-02-25 15:10:53'}, {'year': 2024, 'weeknum': 7, 'province': 'อุบลราชธานี', 'new_case': 13, 'total_case': 140, 'new_case_excludeabroad': 13, 'total_case_excludeabroad': 140, 'new_death': 0, 'total_death': 0, 'update_date': '2024-02-25 15:10:53'}, {'year': 2024, 'weeknum': 7, 'province': 'กาฬสินธุ์', 'new_case': 2, 'total_case': 46, 'new_case_excludeabroad': 2, 'total_case_excludeabroad': 46, 'new_death': 0, 'total_death': 0, 'update_date': '2024-02-25 15:10:53'}, {'year': 2024, 'weeknum': 7, 'province': 'สระแก้ว', 'new_case': 16, 'total_case': 80, 'new_case_excludeabroad': 16, 'total_case_excludeabroad': 80, 'new_death': 0, 'total_death': 0, 'update_date': '2024-02-25 15:10:53'}, {'year': 2024, 'weeknum': 7, 'province': 'น่าน', 'new_case': 1, 'total_case': 9, 'new_case_excludeabroad': 1, 'total_case_excludeabroad': 9, 'new_death': 1, 'total_death': 1, 'update_date': '2024-02-25 15:10:53'}, {'year': 2024, 'weeknum': 7, 'province': 'เพชรบุรี', 'new_case': 0, 'total_case': 6, 'new_case_excludeabroad': 0, 'total_case_excludeabroad': 6, 'new_death': 0, 'total_death': 1, 'update_date': '2024-02-25 15:10:53'}, {'year': 2024, 'weeknum': 7, 'province': 'ชลบุรี', 'new_case': 38, 'total_case': 261, 'new_case_excludeabroad': 38, 'total_case_excludeabroad': 261, 'new_death': 0, 'total_death': 3, 'update_date': '2024-02-25 15:10:53'}, {'year': 2024, 'weeknum': 7, 'province': 'พิษณุโลก', 'new_case': 4, 'total_case': 24, 'new_case_excludeabroad': 4, 'total_case_excludeabroad': 24, 'new_death': 0, 'total_death': 0, 'update_date': '2024-02-25 15:10:53'}, {'year': 2024, 'weeknum': 7, 'province': 'สมุทรสงคราม', 'new_case': 0, 'total_case': 3, 'new_case_excludeabroad': 0, 'total_case_excludeabroad': 3, 'new_death': 0, 'total_death': 0, 'update_date': '2024-02-25 15:10:53'}, {'year': 2024, 'weeknum': 7, 'province': 'เชียงใหม่', 'new_case': 17, 'total_case': 57, 'new_case_excludeabroad': 17, 'total_case_excludeabroad': 57, 'new_death': 0, 'total_death': 0, 'update_date': '2024-02-25 15:10:53'}, {'year': 2024, 'weeknum': 7, 'province': 'กาญจนบุรี', 'new_case': 0, 'total_case': 5, 'new_case_excludeabroad': 0, 'total_case_excludeabroad': 5, 'new_death': 0, 'total_death': 1, 'update_date': '2024-02-25 15:10:53'}, {'year': 2024, 'weeknum': 7, 'province': 'ชุมพร', 'new_case': 8, 'total_case': 99, 'new_case_excludeabroad': 8, 'total_case_excludeabroad': 99, 'new_death': 0, 'total_death': 0, 'update_date': '2024-02-25 15:10:53'}, {'year': 2024, 'weeknum': 7, 'province': 'เพชรบูรณ์', 'new_case': 4, 'total_case': 106, 'new_case_excludeabroad': 4, 'total_case_excludeabroad': 106, 'new_death': 0, 'total_death': 0, 'update_date': '2024-02-25 15:10:53'}, {'year': 2024, 'weeknum': 7, 'province': 'ลพบุรี', 'new_case': 2, 'total_case': 14, 'new_case_excludeabroad': 2, 'total_case_excludeabroad': 14, 'new_death': 0, 'total_death': 1, 'update_date': '2024-02-25 15:10:53'}, {'year': 2024, 'weeknum': 7, 'province': 'นครราชสีมา', 'new_case': 13, 'total_case': 245, 'new_case_excludeabroad': 13, 'total_case_excludeabroad': 245, 'new_death': 0, 'total_death': 0, 'update_date': '2024-02-25 15:10:53'}, {'year': 2024, 'weeknum': 7, 'province': 'อุทัยธานี', 'new_case': 1, 'total_case': 22, 'new_case_excludeabroad': 1, 'total_case_excludeabroad': 22, 'new_death': 0, 'total_death': 0, 'update_date': '2024-02-25 15:10:53'}, {'year': 2024, 'weeknum': 7, 'province': 'ฉะเชิงเทรา', 'new_case': 4, 'total_case': 48, 'new_case_excludeabroad': 4, 'total_case_excludeabroad': 48, 'new_death': 0, 'total_death': 0, 'update_date': '2024-02-25 15:10:53'}, {'year': 2024, 'weeknum': 7, 'province': 'ตาก', 'new_case': 3, 'total_case': 38, 'new_case_excludeabroad': 3, 'total_case_excludeabroad': 38, 'new_death': 1, 'total_death': 1, 'update_date': '2024-02-25 15:10:53'}, {'year': 2024, 'weeknum': 7, 'province': 'กรุงเทพมหานคร', 'new_case': 50, 'total_case': 315, 'new_case_excludeabroad': 50, 'total_case_excludeabroad': 315, 'new_death': 0, 'total_death': 6, 'update_date': '2024-02-25 15:10:53'}, {'year': 2024, 'weeknum': 7, 'province': 'ภูเก็ต', 'new_case': 14, 'total_case': 209, 'new_case_excludeabroad': 14, 'total_case_excludeabroad': 209, 'new_death': 0, 'total_death': 0, 'update_date': '2024-02-25 15:10:53'}, {'year': 2024, 'weeknum': 7, 'province': 'พระนครศรีอยุธยา', 'new_case': 3, 'total_case': 27, 'new_case_excludeabroad': 3, 'total_case_excludeabroad': 27, 'new_death': 0, 'total_death': 1, 'update_date': '2024-02-25 15:10:53'}, {'year': 2024, 'weeknum': 7, 'province': 'สมุทรสาคร', 'new_case': 17, 'total_case': 60, 'new_case_excludeabroad': 17, 'total_case_excludeabroad': 60, 'new_death': 0, 'total_death': 0, 'update_date': '2024-02-25 15:10:53'}, {'year': 2024, 'weeknum': 7, 'province': 'ลำปาง', 'new_case': 0, 'total_case': 22, 'new_case_excludeabroad': 0, 'total_case_excludeabroad': 22, 'new_death': 0, 'total_death': 0, 'update_date': '2024-02-25 15:10:53'}, {'year': 2024, 'weeknum': 7, 'province': 'สุพรรณบุรี', 'new_case': 7, 'total_case': 55, 'new_case_excludeabroad': 7, 'total_case_excludeabroad': 55, 'new_death': 0, 'total_death': 2, 'update_date': '2024-02-25 15:10:53'}, {'year': 2024, 'weeknum': 7, 'province': 'สระบุรี', 'new_case': 1, 'total_case': 35, 'new_case_excludeabroad': 1, 'total_case_excludeabroad': 35, 'new_death': 0, 'total_death': 2, 'update_date': '2024-02-25 15:10:53'}, {'year': 2024, 'weeknum': 7, 'province': 'พิจิตร', 'new_case': 4, 'total_case': 47, 'new_case_excludeabroad': 4, 'total_case_excludeabroad': 47, 'new_death': 0, 'total_death': 0, 'update_date': '2024-02-25 15:10:53'}, {'year': 2024, 'weeknum': 7, 'province': 'ขอนแก่น', 'new_case': 19, 'total_case': 108, 'new_case_excludeabroad': 19, 'total_case_excludeabroad': 108, 'new_death': 0, 'total_death': 0, 'update_date': '2024-02-25 15:10:53'}, {'year': 2024, 'weeknum': 7, 'province': 'ประจวบคีรีขันธ์', 'new_case': 1, 'total_case': 13, 'new_case_excludeabroad': 1, 'total_case_excludeabroad': 13, 'new_death': 0, 'total_death': 1, 'update_date': '2024-02-25 15:10:53'}, {'year': 2024, 'weeknum': 7, 'province': 'มุกดาหาร', 'new_case': 0, 'total_case': 3, 'new_case_excludeabroad': 0, 'total_case_excludeabroad': 3, 'new_death': 0, 'total_death': 0, 'update_date': '2024-02-25 15:10:53'}, {'year': 2024, 'weeknum': 7, 'province': 'กระบี่', 'new_case': 1, 'total_case': 10, 'new_case_excludeabroad': 1, 'total_case_excludeabroad': 10, 'new_death': 0, 'total_death': 0, 'update_date': '2024-02-25 15:10:53'}, {'year': 2024, 'weeknum': 7, 'province': 'ชัยภูมิ', 'new_case': 3, 'total_case': 19, 'new_case_excludeabroad': 3, 'total_case_excludeabroad': 19, 'new_death': 0, 'total_death': 0, 'update_date': '2024-02-25 15:10:53'}, {'year': 2024, 'weeknum': 7, 'province': 'ระยอง', 'new_case': 1, 'total_case': 12, 'new_case_excludeabroad': 1, 'total_case_excludeabroad': 12, 'new_death': 0, 'total_death': 0, 'update_date': '2024-02-25 15:10:53'}, {'year': 2024, 'weeknum': 7, 'province': 'ยะลา', 'new_case': 0, 'total_case': 10, 'new_case_excludeabroad': 0, 'total_case_excludeabroad': 10, 'new_death': 0, 'total_death': 0, 'update_date': '2024-02-25 15:10:53'}, {'year': 2024, 'weeknum': 7, 'province': 'ชัยนาท', 'new_case': 0, 'total_case': 25, 'new_case_excludeabroad': 0, 'total_case_excludeabroad': 25, 'new_death': 0, 'total_death': 0, 'update_date': '2024-02-25 15:10:53'}, {'year': 2024, 'weeknum': 7, 'province': 'พะเยา', 'new_case': 8, 'total_case': 35, 'new_case_excludeabroad': 8, 'total_case_excludeabroad': 35, 'new_death': 0, 'total_death': 0, 'update_date': '2024-02-25 15:10:53'}, {'year': 2024, 'weeknum': 7, 'province': 'สุโขทัย', 'new_case': 0, 'total_case': 1, 'new_case_excludeabroad': 0, 'total_case_excludeabroad': 1, 'new_death': 0, 'total_death': 2, 'update_date': '2024-02-25 15:10:53'}, {'year': 2024, 'weeknum': 7, 'province': 'สตูล', 'new_case': 1, 'total_case': 2, 'new_case_excludeabroad': 1, 'total_case_excludeabroad': 2, 'new_death': 0, 'total_death': 0, 'update_date': '2024-02-25 15:10:53'}, {'year': 2024, 'weeknum': 7, 'province': 'ยโสธร', 'new_case': 7, 'total_case': 31, 'new_case_excludeabroad': 7, 'total_case_excludeabroad': 31, 'new_death': 0, 'total_death': 0, 'update_date': '2024-02-25 15:10:53'}, {'year': 2024, 'weeknum': 7, 'province': 'นครศรีธรรมราช', 'new_case': 14, 'total_case': 97, 'new_case_excludeabroad': 14, 'total_case_excludeabroad': 97, 'new_death': 0, 'total_death': 0, 'update_date': '2024-02-25 15:10:53'}, {'year': 2024, 'weeknum': 7, 'province': 'นครสวรรค์', 'new_case': 7, 'total_case': 41, 'new_case_excludeabroad': 7, 'total_case_excludeabroad': 41, 'new_death': 0, 'total_death': 0, 'update_date': '2024-02-25 15:10:53'}, {'year': 2024, 'weeknum': 7, 'province': 'ตราด', 'new_case': 3, 'total_case': 14, 'new_case_excludeabroad': 3, 'total_case_excludeabroad': 14, 'new_death': 0, 'total_death': 1, 'update_date': '2024-02-25 15:10:53'}, {'year': 2024, 'weeknum': 7, 'province': 'สงขลา', 'new_case': 10, 'total_case': 160, 'new_case_excludeabroad': 10, 'total_case_excludeabroad': 160, 'new_death': 0, 'total_death': 0, 'update_date': '2024-02-25 15:10:53'}, {'year': 2024, 'weeknum': 7, 'province': 'จันทบุรี', 'new_case': 7, 'total_case': 58, 'new_case_excludeabroad': 7, 'total_case_excludeabroad': 58, 'new_death': 0, 'total_death': 1, 'update_date': '2024-02-25 15:10:53'}, {'year': 2024, 'weeknum': 7, 'province': 'ศรีสะเกษ', 'new_case': 0, 'total_case': 6, 'new_case_excludeabroad': 0, 'total_case_excludeabroad': 6, 'new_death': 0, 'total_death': 0, 'update_date': '2024-02-25 15:10:53'}, {'year': 2024, 'weeknum': 7, 'province': 'ปราจีนบุรี', 'new_case': 0, 'total_case': 30, 'new_case_excludeabroad': 0, 'total_case_excludeabroad': 30, 'new_death': 0, 'total_death': 0, 'update_date': '2024-02-25 15:10:53'}, {'year': 2024, 'weeknum': 7, 'province': 'อุดรธานี', 'new_case': 13, 'total_case': 91, 'new_case_excludeabroad': 13, 'total_case_excludeabroad': 91, 'new_death': 0, 'total_death': 0, 'update_date': '2024-02-25 15:10:53'}, {'year': 2024, 'weeknum': 7, 'province': 'ปัตตานี', 'new_case': 0, 'total_case': 5, 'new_case_excludeabroad': 0, 'total_case_excludeabroad': 5, 'new_death': 0, 'total_death': 0, 'update_date': '2024-02-25 15:10:53'}, {'year': 2024, 'weeknum': 7, 'province': 'เชียงราย', 'new_case': 4, 'total_case': 19, 'new_case_excludeabroad': 4, 'total_case_excludeabroad': 19, 'new_death': 0, 'total_death': 0, 'update_date': '2024-02-25 15:10:53'}, {'year': 2024, 'weeknum': 7, 'province': 'ตรัง', 'new_case': 1, 'total_case': 17, 'new_case_excludeabroad': 1, 'total_case_excludeabroad': 17, 'new_death': 0, 'total_death': 0, 'update_date': '2024-02-25 15:10:53'}, {'year': 2024, 'weeknum': 7, 'province': 'อ่างทอง', 'new_case': 3, 'total_case': 24, 'new_case_excludeabroad': 3, 'total_case_excludeabroad': 24, 'new_death': 0, 'total_death': 4, 'update_date': '2024-02-25 15:10:53'}, {'year': 2024, 'weeknum': 7, 'province': 'ลำพูน', 'new_case': 3, 'total_case': 27, 'new_case_excludeabroad': 3, 'total_case_excludeabroad': 27, 'new_death': 0, 'total_death': 0, 'update_date': '2024-02-25 15:10:53'}, {'year': 2024, 'weeknum': 7, 'province': 'เลย', 'new_case': 5, 'total_case': 42, 'new_case_excludeabroad': 5, 'total_case_excludeabroad': 42, 'new_death': 0, 'total_death': 0, 'update_date': '2024-02-25 15:10:53'}, {'year': 2024, 'weeknum': 7, 'province': 'บุรีรัมย์', 'new_case': 20, 'total_case': 92, 'new_case_excludeabroad': 20, 'total_case_excludeabroad': 92, 'new_death': 0, 'total_death': 0, 'update_date': '2024-02-25 15:10:53'}, {'year': 2024, 'weeknum': 7, 'province': 'หนองคาย', 'new_case': 16, 'total_case': 99, 'new_case_excludeabroad': 16, 'total_case_excludeabroad': 99, 'new_death': 0, 'total_death': 0, 'update_date': '2024-02-25 15:10:53'}, {'year': 2024, 'weeknum': 7, 'province': 'สุราษฎร์ธานี', 'new_case': 7, 'total_case': 158, 'new_case_excludeabroad': 7, 'total_case_excludeabroad': 158, 'new_death': 0, 'total_death': 5, 'update_date': '2024-02-25 15:10:53'}, {'year': 2024, 'weeknum': 7, 'province': 'ระนอง', 'new_case': 0, 'total_case': 1, 'new_case_excludeabroad': 0, 'total_case_excludeabroad': 1, 'new_death': 0, 'total_death': 0, 'update_date': '2024-02-25 15:10:53'}, {'year': 2024, 'weeknum': 7, 'province': 'สิงห์บุรี', 'new_case': 4, 'total_case': 24, 'new_case_excludeabroad': 4, 'total_case_excludeabroad': 24, 'new_death': 0, 'total_death': 1, 'update_date': '2024-02-25 15:10:53'}, {'year': 2024, 'weeknum': 7, 'province': 'สกลนคร', 'new_case': 1, 'total_case': 11, 'new_case_excludeabroad': 1, 'total_case_excludeabroad': 11, 'new_death': 0, 'total_death': 0, 'update_date': '2024-02-25 15:10:53'}, {'year': 2024, 'weeknum': 7, 'province': 'นครพนม', 'new_case': 3, 'total_case': 20, 'new_case_excludeabroad': 3, 'total_case_excludeabroad': 20, 'new_death': 0, 'total_death': 0, 'update_date': '2024-02-25 15:10:53'}, {'year': 2024, 'weeknum': 7, 'province': 'นนทบุรี', 'new_case': 16, 'total_case': 180, 'new_case_excludeabroad': 16, 'total_case_excludeabroad': 180, 'new_death': 0, 'total_death': 0, 'update_date': '2024-02-25 15:10:53'}, {'year': 2024, 'weeknum': 7, 'province': 'นราธิวาส', 'new_case': 0, 'total_case': 33, 'new_case_excludeabroad': 0, 'total_case_excludeabroad': 33, 'new_death': 0, 'total_death': 0, 'update_date': '2024-02-25 15:10:53'}, {'year': 2024, 'weeknum': 7, 'province': 'ไม่ระบุ', 'new_case': 27, 'total_case': 134, 'new_case_excludeabroad': 27, 'total_case_excludeabroad': 134, 'new_death': 0, 'total_death': 0, 'update_date': '2024-02-25 15:10:53'}, {'year': 2024, 'weeknum': 7, 'province': 'นครปฐม', 'new_case': 3, 'total_case': 18, 'new_case_excludeabroad': 3, 'total_case_excludeabroad': 18, 'new_death': 0, 'total_death': 0, 'update_date': '2024-02-25 15:10:53'}, {'year': 2024, 'weeknum': 7, 'province': 'สมุทรปราการ', 'new_case': 5, 'total_case': 64, 'new_case_excludeabroad': 5, 'total_case_excludeabroad': 64, 'new_death': 0, 'total_death': 3, 'update_date': '2024-02-25 15:10:53'}, {'year': 2024, 'weeknum': 7, 'province': 'อำนาจเจริญ', 'new_case': 2, 'total_case': 10, 'new_case_excludeabroad': 2, 'total_case_excludeabroad': 10, 'new_death': 0, 'total_death': 1, 'update_date': '2024-02-25 15:10:53'}, {'year': 2024, 'weeknum': 7, 'province': 'กำแพงเพชร', 'new_case': 1, 'total_case': 10, 'new_case_excludeabroad': 1, 'total_case_excludeabroad': 10, 'new_death': 0, 'total_death': 0, 'update_date': '2024-02-25 15:10:53'}, {'year': 2024, 'weeknum': 7, 'province': 'แพร่', 'new_case': 4, 'total_case': 35, 'new_case_excludeabroad': 4, 'total_case_excludeabroad': 35, 'new_death': 0, 'total_death': 0, 'update_date': '2024-02-25 15:10:53'}, {'year': 2024, 'weeknum': 7, 'province': 'ร้อยเอ็ด', 'new_case': 5, 'total_case': 72, 'new_case_excludeabroad': 5, 'total_case_excludeabroad': 72, 'new_death': 0, 'total_death': 0, 'update_date': '2024-02-25 15:10:53'}]\n"
          ]
        }
      ],
      "source": [
        "response = requests.get(\"https://covid19.ddc.moph.go.th/api/Cases/today-cases-by-provinces\")\n",
        "response = response.json()\n",
        "print(response)"
      ]
    },
    {
      "cell_type": "code",
      "execution_count": null,
      "metadata": {
        "colab": {
          "base_uri": "https://localhost:8080/"
        },
        "id": "8Nhk7Vsnkd9H",
        "outputId": "7b2176a4-7690-4233-efa7-011285c378d0"
      },
      "outputs": [
        {
          "output_type": "stream",
          "name": "stdout",
          "text": [
            "   year  weeknum     province  new_case  total_case  new_case_excludeabroad  \\\n",
            "0  2024        7  หนองบัวลำภู         2          15                       2   \n",
            "1  2024        7      ราชบุรี        11          34                      11   \n",
            "2  2024        7        พังงา         0           1                       0   \n",
            "3  2024        7     สุรินทร์        11         117                      11   \n",
            "4  2024        7      นครนายก         0           5                       0   \n",
            "\n",
            "   total_case_excludeabroad  new_death  total_death          update_date  \n",
            "0                        15          0            0  2024-02-25 15:10:53  \n",
            "1                        34          0            1  2024-02-25 15:10:53  \n",
            "2                         1          0            0  2024-02-25 15:10:53  \n",
            "3                       117          0            3  2024-02-25 15:10:53  \n",
            "4                         5          1            1  2024-02-25 15:10:53  \n"
          ]
        }
      ],
      "source": [
        "df = pd.DataFrame(response)\n",
        "print(df.head())"
      ]
    },
    {
      "cell_type": "code",
      "source": [
        "from google.colab import drive\n",
        "drive.mount('/content/drive')"
      ],
      "metadata": {
        "colab": {
          "base_uri": "https://localhost:8080/"
        },
        "id": "oQJ_St7-mpxO",
        "outputId": "57e0fc7b-9d65-439f-ce53-76d561e309bd"
      },
      "execution_count": null,
      "outputs": [
        {
          "output_type": "stream",
          "name": "stdout",
          "text": [
            "Drive already mounted at /content/drive; to attempt to forcibly remount, call drive.mount(\"/content/drive\", force_remount=True).\n"
          ]
        }
      ]
    },
    {
      "cell_type": "code",
      "source": [
        "df.to_excel('/content/drive/MyDrive/My Profile/COVID-19-th/covid-19.xlsx',index=False)"
      ],
      "metadata": {
        "id": "c4cWYh_Zm0a4"
      },
      "execution_count": null,
      "outputs": []
    }
  ],
  "metadata": {
    "kernelspec": {
      "display_name": "Python 3",
      "language": "python",
      "name": "python3"
    },
    "language_info": {
      "codemirror_mode": {
        "name": "ipython",
        "version": 3
      },
      "file_extension": ".py",
      "mimetype": "text/x-python",
      "name": "python",
      "nbconvert_exporter": "python",
      "pygments_lexer": "ipython3",
      "version": "3.11.3"
    },
    "colab": {
      "provenance": []
    }
  },
  "nbformat": 4,
  "nbformat_minor": 0
}
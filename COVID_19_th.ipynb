{
  "cells": [
    {
      "cell_type": "markdown",
      "metadata": {
        "id": "view-in-github",
        "colab_type": "text"
      },
      "source": [
        "<a href=\"https://colab.research.google.com/github/thatponw/Covid-19-th/blob/main/COVID_19_th.ipynb\" target=\"_parent\"><img src=\"https://colab.research.google.com/assets/colab-badge.svg\" alt=\"Open In Colab\"/></a>"
      ]
    },
    {
      "cell_type": "markdown",
      "source": [
        "import library สำคัญที่ใช้สำหรับงาน"
      ],
      "metadata": {
        "id": "-vWrL4vlDVrz"
      }
    },
    {
      "cell_type": "code",
      "execution_count": null,
      "metadata": {
        "id": "-X7pyQLakd9F"
      },
      "outputs": [],
      "source": [
        "import requests\n",
        "import pandas as pd"
      ]
    },
    {
      "cell_type": "markdown",
      "source": [
        "อ่านข้อมูลจาก API และเรียกดูหน้าตาของข้อมูล"
      ],
      "metadata": {
        "id": "dRnM3rj6DWrK"
      }
    },
    {
      "cell_type": "code",
      "execution_count": null,
      "metadata": {
        "colab": {
          "base_uri": "https://localhost:8080/"
        },
        "id": "gK7J2sbLkd9G",
        "outputId": "0c8b083d-2d59-4c2e-d843-956c5127d8ef"
      },
      "outputs": [
        {
          "output_type": "stream",
          "name": "stdout",
          "text": [
            "[{'year': 2024, 'weeknum': 8, 'province': 'เชียงใหม่', 'new_case': 62, 'total_case': 119, 'new_case_excludeabroad': 62, 'total_case_excludeabroad': 119, 'new_death': 0, 'total_death': 0, 'update_date': '2024-03-03 17:00:47'}, {'year': 2024, 'weeknum': 8, 'province': 'ลำปาง', 'new_case': 5, 'total_case': 27, 'new_case_excludeabroad': 5, 'total_case_excludeabroad': 27, 'new_death': 0, 'total_death': 0, 'update_date': '2024-03-03 17:00:47'}, {'year': 2024, 'weeknum': 8, 'province': 'ไม่ระบุ', 'new_case': 5, 'total_case': 139, 'new_case_excludeabroad': 5, 'total_case_excludeabroad': 139, 'new_death': 0, 'total_death': 0, 'update_date': '2024-03-03 17:00:47'}, {'year': 2024, 'weeknum': 8, 'province': 'นราธิวาส', 'new_case': 1, 'total_case': 34, 'new_case_excludeabroad': 1, 'total_case_excludeabroad': 34, 'new_death': 0, 'total_death': 0, 'update_date': '2024-03-03 17:00:47'}, {'year': 2024, 'weeknum': 8, 'province': 'ลำพูน', 'new_case': 2, 'total_case': 29, 'new_case_excludeabroad': 2, 'total_case_excludeabroad': 29, 'new_death': 0, 'total_death': 0, 'update_date': '2024-03-03 17:00:47'}, {'year': 2024, 'weeknum': 8, 'province': 'พะเยา', 'new_case': 6, 'total_case': 41, 'new_case_excludeabroad': 6, 'total_case_excludeabroad': 41, 'new_death': 0, 'total_death': 0, 'update_date': '2024-03-03 17:00:47'}, {'year': 2024, 'weeknum': 8, 'province': 'นครราชสีมา', 'new_case': 16, 'total_case': 261, 'new_case_excludeabroad': 16, 'total_case_excludeabroad': 261, 'new_death': 0, 'total_death': 0, 'update_date': '2024-03-03 17:00:47'}, {'year': 2024, 'weeknum': 8, 'province': 'พัทลุง', 'new_case': 1, 'total_case': 44, 'new_case_excludeabroad': 1, 'total_case_excludeabroad': 44, 'new_death': 0, 'total_death': 0, 'update_date': '2024-03-03 17:00:47'}, {'year': 2024, 'weeknum': 8, 'province': 'สกลนคร', 'new_case': 4, 'total_case': 15, 'new_case_excludeabroad': 4, 'total_case_excludeabroad': 15, 'new_death': 0, 'total_death': 0, 'update_date': '2024-03-03 17:00:47'}, {'year': 2024, 'weeknum': 8, 'province': 'กรุงเทพมหานคร', 'new_case': 45, 'total_case': 360, 'new_case_excludeabroad': 45, 'total_case_excludeabroad': 360, 'new_death': 0, 'total_death': 6, 'update_date': '2024-03-03 17:00:47'}, {'year': 2024, 'weeknum': 8, 'province': 'ฉะเชิงเทรา', 'new_case': 7, 'total_case': 55, 'new_case_excludeabroad': 7, 'total_case_excludeabroad': 55, 'new_death': 0, 'total_death': 0, 'update_date': '2024-03-03 17:00:47'}, {'year': 2024, 'weeknum': 8, 'province': 'อุบลราชธานี', 'new_case': 6, 'total_case': 146, 'new_case_excludeabroad': 6, 'total_case_excludeabroad': 146, 'new_death': 0, 'total_death': 0, 'update_date': '2024-03-03 17:00:47'}, {'year': 2024, 'weeknum': 8, 'province': 'อ่างทอง', 'new_case': 1, 'total_case': 25, 'new_case_excludeabroad': 1, 'total_case_excludeabroad': 25, 'new_death': 0, 'total_death': 4, 'update_date': '2024-03-03 17:00:47'}, {'year': 2024, 'weeknum': 8, 'province': 'เชียงราย', 'new_case': 0, 'total_case': 19, 'new_case_excludeabroad': 0, 'total_case_excludeabroad': 19, 'new_death': 0, 'total_death': 0, 'update_date': '2024-03-03 17:00:47'}, {'year': 2024, 'weeknum': 8, 'province': 'ตาก', 'new_case': 2, 'total_case': 40, 'new_case_excludeabroad': 2, 'total_case_excludeabroad': 40, 'new_death': 0, 'total_death': 1, 'update_date': '2024-03-03 17:00:47'}, {'year': 2024, 'weeknum': 8, 'province': 'หนองบัวลำภู', 'new_case': 2, 'total_case': 17, 'new_case_excludeabroad': 2, 'total_case_excludeabroad': 17, 'new_death': 0, 'total_death': 0, 'update_date': '2024-03-03 17:00:47'}, {'year': 2024, 'weeknum': 8, 'province': 'อุตรดิตถ์', 'new_case': 0, 'total_case': 30, 'new_case_excludeabroad': 0, 'total_case_excludeabroad': 30, 'new_death': 0, 'total_death': 2, 'update_date': '2024-03-03 17:00:47'}, {'year': 2024, 'weeknum': 8, 'province': 'อุดรธานี', 'new_case': 7, 'total_case': 98, 'new_case_excludeabroad': 7, 'total_case_excludeabroad': 98, 'new_death': 0, 'total_death': 0, 'update_date': '2024-03-03 17:00:47'}, {'year': 2024, 'weeknum': 8, 'province': 'ศรีสะเกษ', 'new_case': 1, 'total_case': 7, 'new_case_excludeabroad': 1, 'total_case_excludeabroad': 7, 'new_death': 0, 'total_death': 0, 'update_date': '2024-03-03 17:00:47'}, {'year': 2024, 'weeknum': 8, 'province': 'พระนครศรีอยุธยา', 'new_case': 3, 'total_case': 30, 'new_case_excludeabroad': 3, 'total_case_excludeabroad': 30, 'new_death': 0, 'total_death': 1, 'update_date': '2024-03-03 17:00:47'}, {'year': 2024, 'weeknum': 8, 'province': 'จันทบุรี', 'new_case': 7, 'total_case': 65, 'new_case_excludeabroad': 7, 'total_case_excludeabroad': 65, 'new_death': 0, 'total_death': 1, 'update_date': '2024-03-03 17:00:47'}, {'year': 2024, 'weeknum': 8, 'province': 'บึงกาฬ', 'new_case': 4, 'total_case': 12, 'new_case_excludeabroad': 4, 'total_case_excludeabroad': 12, 'new_death': 0, 'total_death': 0, 'update_date': '2024-03-03 17:00:47'}, {'year': 2024, 'weeknum': 8, 'province': 'กาฬสินธุ์', 'new_case': 3, 'total_case': 49, 'new_case_excludeabroad': 3, 'total_case_excludeabroad': 49, 'new_death': 0, 'total_death': 0, 'update_date': '2024-03-03 17:00:47'}, {'year': 2024, 'weeknum': 8, 'province': 'เพชรบูรณ์', 'new_case': 5, 'total_case': 111, 'new_case_excludeabroad': 5, 'total_case_excludeabroad': 111, 'new_death': 0, 'total_death': 0, 'update_date': '2024-03-03 17:00:47'}, {'year': 2024, 'weeknum': 8, 'province': 'อำนาจเจริญ', 'new_case': 0, 'total_case': 10, 'new_case_excludeabroad': 0, 'total_case_excludeabroad': 10, 'new_death': 0, 'total_death': 1, 'update_date': '2024-03-03 17:00:47'}, {'year': 2024, 'weeknum': 8, 'province': 'นนทบุรี', 'new_case': 10, 'total_case': 190, 'new_case_excludeabroad': 10, 'total_case_excludeabroad': 190, 'new_death': 0, 'total_death': 0, 'update_date': '2024-03-03 17:00:47'}, {'year': 2024, 'weeknum': 8, 'province': 'สุโขทัย', 'new_case': 0, 'total_case': 1, 'new_case_excludeabroad': 0, 'total_case_excludeabroad': 1, 'new_death': 0, 'total_death': 2, 'update_date': '2024-03-03 17:00:47'}, {'year': 2024, 'weeknum': 8, 'province': 'สมุทรสงคราม', 'new_case': 1, 'total_case': 4, 'new_case_excludeabroad': 1, 'total_case_excludeabroad': 4, 'new_death': 0, 'total_death': 0, 'update_date': '2024-03-03 17:00:47'}, {'year': 2024, 'weeknum': 8, 'province': 'สตูล', 'new_case': 0, 'total_case': 2, 'new_case_excludeabroad': 0, 'total_case_excludeabroad': 2, 'new_death': 0, 'total_death': 0, 'update_date': '2024-03-03 17:00:47'}, {'year': 2024, 'weeknum': 8, 'province': 'มุกดาหาร', 'new_case': 0, 'total_case': 3, 'new_case_excludeabroad': 0, 'total_case_excludeabroad': 3, 'new_death': 0, 'total_death': 0, 'update_date': '2024-03-03 17:00:47'}, {'year': 2024, 'weeknum': 8, 'province': 'ยะลา', 'new_case': 0, 'total_case': 10, 'new_case_excludeabroad': 0, 'total_case_excludeabroad': 10, 'new_death': 0, 'total_death': 0, 'update_date': '2024-03-03 17:00:47'}, {'year': 2024, 'weeknum': 8, 'province': 'ขอนแก่น', 'new_case': 24, 'total_case': 132, 'new_case_excludeabroad': 24, 'total_case_excludeabroad': 132, 'new_death': 0, 'total_death': 0, 'update_date': '2024-03-03 17:00:47'}, {'year': 2024, 'weeknum': 8, 'province': 'ปัตตานี', 'new_case': 0, 'total_case': 5, 'new_case_excludeabroad': 0, 'total_case_excludeabroad': 5, 'new_death': 0, 'total_death': 0, 'update_date': '2024-03-03 17:00:47'}, {'year': 2024, 'weeknum': 8, 'province': 'สมุทรสาคร', 'new_case': 1, 'total_case': 61, 'new_case_excludeabroad': 1, 'total_case_excludeabroad': 61, 'new_death': 0, 'total_death': 0, 'update_date': '2024-03-03 17:00:47'}, {'year': 2024, 'weeknum': 8, 'province': 'ชัยภูมิ', 'new_case': 2, 'total_case': 21, 'new_case_excludeabroad': 2, 'total_case_excludeabroad': 21, 'new_death': 1, 'total_death': 1, 'update_date': '2024-03-03 17:00:47'}, {'year': 2024, 'weeknum': 8, 'province': 'ตรัง', 'new_case': 0, 'total_case': 17, 'new_case_excludeabroad': 0, 'total_case_excludeabroad': 17, 'new_death': 0, 'total_death': 0, 'update_date': '2024-03-03 17:00:47'}, {'year': 2024, 'weeknum': 8, 'province': 'เลย', 'new_case': 4, 'total_case': 46, 'new_case_excludeabroad': 4, 'total_case_excludeabroad': 46, 'new_death': 0, 'total_death': 0, 'update_date': '2024-03-03 17:00:47'}, {'year': 2024, 'weeknum': 8, 'province': 'ระยอง', 'new_case': 2, 'total_case': 14, 'new_case_excludeabroad': 2, 'total_case_excludeabroad': 14, 'new_death': 0, 'total_death': 0, 'update_date': '2024-03-03 17:00:47'}, {'year': 2024, 'weeknum': 8, 'province': 'ทั้งประเทศ', 'new_case': 462, 'total_case': 4661, 'new_case_excludeabroad': 462, 'total_case_excludeabroad': 4661, 'new_death': 2, 'total_death': 48, 'update_date': '2024-03-03 17:00:47'}, {'year': 2024, 'weeknum': 8, 'province': 'สระบุรี', 'new_case': 1, 'total_case': 36, 'new_case_excludeabroad': 1, 'total_case_excludeabroad': 36, 'new_death': 0, 'total_death': 2, 'update_date': '2024-03-03 17:00:47'}, {'year': 2024, 'weeknum': 8, 'province': 'ลพบุรี', 'new_case': 0, 'total_case': 14, 'new_case_excludeabroad': 0, 'total_case_excludeabroad': 14, 'new_death': 0, 'total_death': 1, 'update_date': '2024-03-03 17:00:47'}, {'year': 2024, 'weeknum': 8, 'province': 'แพร่', 'new_case': 1, 'total_case': 36, 'new_case_excludeabroad': 1, 'total_case_excludeabroad': 36, 'new_death': 0, 'total_death': 0, 'update_date': '2024-03-03 17:00:47'}, {'year': 2024, 'weeknum': 8, 'province': 'อุทัยธานี', 'new_case': 4, 'total_case': 26, 'new_case_excludeabroad': 4, 'total_case_excludeabroad': 26, 'new_death': 0, 'total_death': 0, 'update_date': '2024-03-03 17:00:47'}, {'year': 2024, 'weeknum': 8, 'province': 'ตราด', 'new_case': 2, 'total_case': 16, 'new_case_excludeabroad': 2, 'total_case_excludeabroad': 16, 'new_death': 0, 'total_death': 1, 'update_date': '2024-03-03 17:00:47'}, {'year': 2024, 'weeknum': 8, 'province': 'สงขลา', 'new_case': 30, 'total_case': 190, 'new_case_excludeabroad': 30, 'total_case_excludeabroad': 190, 'new_death': 0, 'total_death': 0, 'update_date': '2024-03-03 17:00:47'}, {'year': 2024, 'weeknum': 8, 'province': 'นครนายก', 'new_case': 0, 'total_case': 5, 'new_case_excludeabroad': 0, 'total_case_excludeabroad': 5, 'new_death': 0, 'total_death': 1, 'update_date': '2024-03-03 17:00:47'}, {'year': 2024, 'weeknum': 8, 'province': 'พิจิตร', 'new_case': 2, 'total_case': 49, 'new_case_excludeabroad': 2, 'total_case_excludeabroad': 49, 'new_death': 0, 'total_death': 0, 'update_date': '2024-03-03 17:00:47'}, {'year': 2024, 'weeknum': 8, 'province': 'ร้อยเอ็ด', 'new_case': 6, 'total_case': 78, 'new_case_excludeabroad': 6, 'total_case_excludeabroad': 78, 'new_death': 0, 'total_death': 0, 'update_date': '2024-03-03 17:00:47'}, {'year': 2024, 'weeknum': 8, 'province': 'ชุมพร', 'new_case': 18, 'total_case': 117, 'new_case_excludeabroad': 18, 'total_case_excludeabroad': 117, 'new_death': 0, 'total_death': 0, 'update_date': '2024-03-03 17:00:47'}, {'year': 2024, 'weeknum': 8, 'province': 'แม่ฮ่องสอน', 'new_case': 0, 'total_case': 11, 'new_case_excludeabroad': 0, 'total_case_excludeabroad': 11, 'new_death': 0, 'total_death': 0, 'update_date': '2024-03-03 17:00:47'}, {'year': 2024, 'weeknum': 8, 'province': 'สิงห์บุรี', 'new_case': 0, 'total_case': 24, 'new_case_excludeabroad': 0, 'total_case_excludeabroad': 24, 'new_death': 0, 'total_death': 1, 'update_date': '2024-03-03 17:00:47'}, {'year': 2024, 'weeknum': 8, 'province': 'สมุทรปราการ', 'new_case': 18, 'total_case': 82, 'new_case_excludeabroad': 18, 'total_case_excludeabroad': 82, 'new_death': 0, 'total_death': 3, 'update_date': '2024-03-03 17:00:47'}, {'year': 2024, 'weeknum': 8, 'province': 'กาญจนบุรี', 'new_case': 1, 'total_case': 6, 'new_case_excludeabroad': 1, 'total_case_excludeabroad': 6, 'new_death': 1, 'total_death': 2, 'update_date': '2024-03-03 17:00:47'}, {'year': 2024, 'weeknum': 8, 'province': 'พิษณุโลก', 'new_case': 1, 'total_case': 25, 'new_case_excludeabroad': 1, 'total_case_excludeabroad': 25, 'new_death': 0, 'total_death': 0, 'update_date': '2024-03-03 17:00:47'}, {'year': 2024, 'weeknum': 8, 'province': 'บุรีรัมย์', 'new_case': 5, 'total_case': 97, 'new_case_excludeabroad': 5, 'total_case_excludeabroad': 97, 'new_death': 0, 'total_death': 0, 'update_date': '2024-03-03 17:00:47'}, {'year': 2024, 'weeknum': 8, 'province': 'เพชรบุรี', 'new_case': 0, 'total_case': 6, 'new_case_excludeabroad': 0, 'total_case_excludeabroad': 6, 'new_death': 0, 'total_death': 1, 'update_date': '2024-03-03 17:00:47'}, {'year': 2024, 'weeknum': 8, 'province': 'สระแก้ว', 'new_case': 7, 'total_case': 87, 'new_case_excludeabroad': 7, 'total_case_excludeabroad': 87, 'new_death': 0, 'total_death': 0, 'update_date': '2024-03-03 17:00:47'}, {'year': 2024, 'weeknum': 8, 'province': 'นครศรีธรรมราช', 'new_case': 8, 'total_case': 105, 'new_case_excludeabroad': 8, 'total_case_excludeabroad': 105, 'new_death': 0, 'total_death': 0, 'update_date': '2024-03-03 17:00:47'}, {'year': 2024, 'weeknum': 8, 'province': 'ชลบุรี', 'new_case': 33, 'total_case': 294, 'new_case_excludeabroad': 33, 'total_case_excludeabroad': 294, 'new_death': 0, 'total_death': 3, 'update_date': '2024-03-03 17:00:47'}, {'year': 2024, 'weeknum': 8, 'province': 'ประจวบคีรีขันธ์', 'new_case': 1, 'total_case': 14, 'new_case_excludeabroad': 1, 'total_case_excludeabroad': 14, 'new_death': 0, 'total_death': 1, 'update_date': '2024-03-03 17:00:47'}, {'year': 2024, 'weeknum': 8, 'province': 'ระนอง', 'new_case': 0, 'total_case': 1, 'new_case_excludeabroad': 0, 'total_case_excludeabroad': 1, 'new_death': 0, 'total_death': 0, 'update_date': '2024-03-03 17:00:47'}, {'year': 2024, 'weeknum': 8, 'province': 'ปราจีนบุรี', 'new_case': 1, 'total_case': 31, 'new_case_excludeabroad': 1, 'total_case_excludeabroad': 31, 'new_death': 0, 'total_death': 0, 'update_date': '2024-03-03 17:00:47'}, {'year': 2024, 'weeknum': 8, 'province': 'กระบี่', 'new_case': 1, 'total_case': 11, 'new_case_excludeabroad': 1, 'total_case_excludeabroad': 11, 'new_death': 0, 'total_death': 0, 'update_date': '2024-03-03 17:00:47'}, {'year': 2024, 'weeknum': 8, 'province': 'นครปฐม', 'new_case': 0, 'total_case': 18, 'new_case_excludeabroad': 0, 'total_case_excludeabroad': 18, 'new_death': 0, 'total_death': 0, 'update_date': '2024-03-03 17:00:47'}, {'year': 2024, 'weeknum': 8, 'province': 'ปทุมธานี', 'new_case': 14, 'total_case': 105, 'new_case_excludeabroad': 14, 'total_case_excludeabroad': 105, 'new_death': 0, 'total_death': 1, 'update_date': '2024-03-03 17:00:47'}, {'year': 2024, 'weeknum': 8, 'province': 'ยโสธร', 'new_case': 3, 'total_case': 34, 'new_case_excludeabroad': 3, 'total_case_excludeabroad': 34, 'new_death': 0, 'total_death': 0, 'update_date': '2024-03-03 17:00:47'}, {'year': 2024, 'weeknum': 8, 'province': 'มหาสารคาม', 'new_case': 0, 'total_case': 10, 'new_case_excludeabroad': 0, 'total_case_excludeabroad': 10, 'new_death': 0, 'total_death': 0, 'update_date': '2024-03-03 17:00:47'}, {'year': 2024, 'weeknum': 8, 'province': 'นครพนม', 'new_case': 0, 'total_case': 20, 'new_case_excludeabroad': 0, 'total_case_excludeabroad': 20, 'new_death': 0, 'total_death': 0, 'update_date': '2024-03-03 17:00:47'}, {'year': 2024, 'weeknum': 8, 'province': 'หนองคาย', 'new_case': 14, 'total_case': 113, 'new_case_excludeabroad': 14, 'total_case_excludeabroad': 113, 'new_death': 0, 'total_death': 0, 'update_date': '2024-03-03 17:00:47'}, {'year': 2024, 'weeknum': 8, 'province': 'น่าน', 'new_case': 2, 'total_case': 11, 'new_case_excludeabroad': 2, 'total_case_excludeabroad': 11, 'new_death': 0, 'total_death': 1, 'update_date': '2024-03-03 17:00:47'}, {'year': 2024, 'weeknum': 8, 'province': 'สุพรรณบุรี', 'new_case': 4, 'total_case': 59, 'new_case_excludeabroad': 4, 'total_case_excludeabroad': 59, 'new_death': 0, 'total_death': 2, 'update_date': '2024-03-03 17:00:47'}, {'year': 2024, 'weeknum': 8, 'province': 'ชัยนาท', 'new_case': 0, 'total_case': 25, 'new_case_excludeabroad': 0, 'total_case_excludeabroad': 25, 'new_death': 0, 'total_death': 0, 'update_date': '2024-03-03 17:00:47'}, {'year': 2024, 'weeknum': 8, 'province': 'สุราษฎร์ธานี', 'new_case': 18, 'total_case': 176, 'new_case_excludeabroad': 18, 'total_case_excludeabroad': 176, 'new_death': 0, 'total_death': 5, 'update_date': '2024-03-03 17:00:47'}, {'year': 2024, 'weeknum': 8, 'province': 'สุรินทร์', 'new_case': 4, 'total_case': 121, 'new_case_excludeabroad': 4, 'total_case_excludeabroad': 121, 'new_death': 0, 'total_death': 3, 'update_date': '2024-03-03 17:00:47'}, {'year': 2024, 'weeknum': 8, 'province': 'ภูเก็ต', 'new_case': 17, 'total_case': 226, 'new_case_excludeabroad': 17, 'total_case_excludeabroad': 226, 'new_death': 0, 'total_death': 0, 'update_date': '2024-03-03 17:00:47'}, {'year': 2024, 'weeknum': 8, 'province': 'พังงา', 'new_case': 0, 'total_case': 1, 'new_case_excludeabroad': 0, 'total_case_excludeabroad': 1, 'new_death': 0, 'total_death': 0, 'update_date': '2024-03-03 17:00:47'}, {'year': 2024, 'weeknum': 8, 'province': 'ราชบุรี', 'new_case': 4, 'total_case': 38, 'new_case_excludeabroad': 4, 'total_case_excludeabroad': 38, 'new_death': 0, 'total_death': 1, 'update_date': '2024-03-03 17:00:47'}, {'year': 2024, 'weeknum': 8, 'province': 'นครสวรรค์', 'new_case': 2, 'total_case': 43, 'new_case_excludeabroad': 2, 'total_case_excludeabroad': 43, 'new_death': 0, 'total_death': 0, 'update_date': '2024-03-03 17:00:47'}, {'year': 2024, 'weeknum': 8, 'province': 'กำแพงเพชร', 'new_case': 1, 'total_case': 11, 'new_case_excludeabroad': 1, 'total_case_excludeabroad': 11, 'new_death': 0, 'total_death': 0, 'update_date': '2024-03-03 17:00:47'}]\n"
          ]
        }
      ],
      "source": [
        "response = requests.get(\"https://covid19.ddc.moph.go.th/api/Cases/today-cases-by-provinces\")\n",
        "response = response.json()\n",
        "print(response)"
      ]
    },
    {
      "cell_type": "markdown",
      "source": [
        "เก็บข้อมูลในรูปแบบ DataFrame"
      ],
      "metadata": {
        "id": "MoYmAuuXDZ8c"
      }
    },
    {
      "cell_type": "code",
      "execution_count": null,
      "metadata": {
        "colab": {
          "base_uri": "https://localhost:8080/"
        },
        "id": "8Nhk7Vsnkd9H",
        "outputId": "76276123-51e2-4ece-a307-96a924b4ec17"
      },
      "outputs": [
        {
          "output_type": "stream",
          "name": "stdout",
          "text": [
            "   year  weeknum   province  new_case  total_case  new_case_excludeabroad  \\\n",
            "0  2024        8  เชียงใหม่        62         119                      62   \n",
            "1  2024        8      ลำปาง         5          27                       5   \n",
            "2  2024        8    ไม่ระบุ         5         139                       5   \n",
            "3  2024        8   นราธิวาส         1          34                       1   \n",
            "4  2024        8      ลำพูน         2          29                       2   \n",
            "\n",
            "   total_case_excludeabroad  new_death  total_death          update_date  \n",
            "0                       119          0            0  2024-03-03 17:00:47  \n",
            "1                        27          0            0  2024-03-03 17:00:47  \n",
            "2                       139          0            0  2024-03-03 17:00:47  \n",
            "3                        34          0            0  2024-03-03 17:00:47  \n",
            "4                        29          0            0  2024-03-03 17:00:47  \n"
          ]
        }
      ],
      "source": [
        "df = pd.DataFrame(response)\n",
        "print(df.head())"
      ]
    },
    {
      "cell_type": "markdown",
      "source": [
        "เชื่อมต่อกับ GoogleDrive"
      ],
      "metadata": {
        "id": "nFcE84zaDeIk"
      }
    },
    {
      "cell_type": "code",
      "execution_count": null,
      "metadata": {
        "id": "7WmYd9Awkd9I",
        "colab": {
          "base_uri": "https://localhost:8080/"
        },
        "outputId": "3e557727-d769-47b6-8a83-849ef328947c"
      },
      "outputs": [
        {
          "output_type": "stream",
          "name": "stdout",
          "text": [
            "Drive already mounted at /content/drive; to attempt to forcibly remount, call drive.mount(\"/content/drive\", force_remount=True).\n"
          ]
        }
      ],
      "source": [
        "from google.colab import drive\n",
        "drive.mount('/content/drive')"
      ]
    },
    {
      "cell_type": "markdown",
      "source": [
        "นำไฟล์ที่เก็บข้อมูลของจังหวัดและภูมิภาคเข้ามา"
      ],
      "metadata": {
        "id": "ycvvyhQTh1vs"
      }
    },
    {
      "cell_type": "code",
      "source": [
        "df_province_refion = pd.read_excel('/content/drive/MyDrive/My Profile/COVID-19-th/province_region.xlsx')\n",
        "print(df_province_refion.head())"
      ],
      "metadata": {
        "id": "vKPa58NDJKKv",
        "outputId": "0c87bb23-5065-4163-d8c8-3224d9213eda",
        "colab": {
          "base_uri": "https://localhost:8080/"
        }
      },
      "execution_count": null,
      "outputs": [
        {
          "output_type": "stream",
          "name": "stdout",
          "text": [
            "     จังหวัด ภูมิภาค\n",
            "0   เชียงราย   เหนือ\n",
            "1  เชียงใหม่   เหนือ\n",
            "2       น่าน   เหนือ\n",
            "3      พะเยา   เหนือ\n",
            "4       แพร่   เหนือ\n"
          ]
        }
      ]
    },
    {
      "cell_type": "markdown",
      "source": [
        "Join Data เพื่อทราบถึงภูมิภาคของจังหวัดนั้นๆ"
      ],
      "metadata": {
        "id": "CsD8bCA3h9N6"
      }
    },
    {
      "cell_type": "code",
      "source": [
        "df_join = pd.merge(df, df_province_refion, left_on='province', right_on='จังหวัด')\n",
        "df_join = df_join.drop(columns=['จังหวัด'])\n",
        "print(df_join)"
      ],
      "metadata": {
        "id": "iBv8lR_YKTtf",
        "outputId": "80f3d304-be19-436b-b7a3-ba9d4e852732",
        "colab": {
          "base_uri": "https://localhost:8080/"
        }
      },
      "execution_count": null,
      "outputs": [
        {
          "output_type": "stream",
          "name": "stdout",
          "text": [
            "    year  weeknum   province  new_case  total_case  new_case_excludeabroad  \\\n",
            "0   2024        8  เชียงใหม่        62         119                      62   \n",
            "1   2024        8      ลำปาง         5          27                       5   \n",
            "2   2024        8   นราธิวาส         1          34                       1   \n",
            "3   2024        8      ลำพูน         2          29                       2   \n",
            "4   2024        8      พะเยา         6          41                       6   \n",
            "..   ...      ...        ...       ...         ...                     ...   \n",
            "72  2024        8     ภูเก็ต        17         226                      17   \n",
            "73  2024        8      พังงา         0           1                       0   \n",
            "74  2024        8    ราชบุรี         4          38                       4   \n",
            "75  2024        8  นครสวรรค์         2          43                       2   \n",
            "76  2024        8  กำแพงเพชร         1          11                       1   \n",
            "\n",
            "    total_case_excludeabroad  new_death  total_death          update_date  \\\n",
            "0                        119          0            0  2024-03-03 17:00:47   \n",
            "1                         27          0            0  2024-03-03 17:00:47   \n",
            "2                         34          0            0  2024-03-03 17:00:47   \n",
            "3                         29          0            0  2024-03-03 17:00:47   \n",
            "4                         41          0            0  2024-03-03 17:00:47   \n",
            "..                       ...        ...          ...                  ...   \n",
            "72                       226          0            0  2024-03-03 17:00:47   \n",
            "73                         1          0            0  2024-03-03 17:00:47   \n",
            "74                        38          0            1  2024-03-03 17:00:47   \n",
            "75                        43          0            0  2024-03-03 17:00:47   \n",
            "76                        11          0            0  2024-03-03 17:00:47   \n",
            "\n",
            "    ภูมิภาค  \n",
            "0     เหนือ  \n",
            "1     เหนือ  \n",
            "2       ใต้  \n",
            "3     เหนือ  \n",
            "4     เหนือ  \n",
            "..      ...  \n",
            "72      ใต้  \n",
            "73      ใต้  \n",
            "74  ตะวันตก  \n",
            "75     กลาง  \n",
            "76     กลาง  \n",
            "\n",
            "[77 rows x 11 columns]\n"
          ]
        }
      ]
    },
    {
      "cell_type": "markdown",
      "source": [
        "เซฟไฟล์ใน Path ที่ต้องการ"
      ],
      "metadata": {
        "id": "jLLBXzDoDiXM"
      }
    },
    {
      "cell_type": "code",
      "execution_count": null,
      "metadata": {
        "id": "TqE12nlP6DNu"
      },
      "outputs": [],
      "source": [
        "df_join.to_excel('/content/drive/MyDrive/My Profile/COVID-19-th/covid-19.xlsx',index=False)"
      ]
    }
  ],
  "metadata": {
    "colab": {
      "provenance": [],
      "include_colab_link": true
    },
    "kernelspec": {
      "display_name": "Python 3",
      "name": "python3"
    },
    "language_info": {
      "codemirror_mode": {
        "name": "ipython",
        "version": 3
      },
      "file_extension": ".py",
      "mimetype": "text/x-python",
      "name": "python",
      "nbconvert_exporter": "python",
      "pygments_lexer": "ipython3",
      "version": "3.11.3"
    }
  },
  "nbformat": 4,
  "nbformat_minor": 0
}